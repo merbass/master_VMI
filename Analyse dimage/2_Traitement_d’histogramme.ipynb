{
  "nbformat": 4,
  "nbformat_minor": 0,
  "metadata": {
    "colab": {
      "provenance": []
    },
    "kernelspec": {
      "name": "python3",
      "display_name": "Python 3"
    },
    "language_info": {
      "name": "python"
    }
  },
  "cells": [
    {
      "cell_type": "code",
      "execution_count": null,
      "metadata": {
        "id": "tPiZqBEdei5K"
      },
      "outputs": [],
      "source": [
        "Complétez la fonction '*threshold*' qui réalise un seuillage combiné de l’image d’entrée.\n"
      ]
    },
    {
      "cell_type": "code",
      "source": [
        "def threshold(image, tb, th):\n",
        "    V_max = 255  # Exemple d'une image codée sur 8 bits non signés\n",
        "    V_min = 0\n",
        "\n",
        "    # Création d'une nouvelle image pour stocker les résultats\n",
        "    result_image = [[0] * len(image[0]) for _ in range(len(image))]\n",
        "\n",
        "    # Application du seuillage combiné\n",
        "    for i in range(len(image)):\n",
        "        for j in range(len(image[0])):\n",
        "            pixel_value = image[i][j]\n",
        "            if pixel_value <= tb:\n",
        "                result_image[i][j] = V_min\n",
        "            elif tb < pixel_value <= th:\n",
        "                result_image[i][j] = pixel_value\n",
        "            else:\n",
        "                result_image[i][j] = V_max\n",
        "\n",
        "    return result_image\n"
      ],
      "metadata": {
        "id": "-laRPRc2e1bq"
      },
      "execution_count": null,
      "outputs": []
    },
    {
      "cell_type": "code",
      "source": [
        "if len(input_image.shape) > 2:\n",
        "    gray_image = cv2.cvtColor(input_image, cv2.COLOR_BGR2G)\n",
        "else:\n",
        "    gray_image = input_image\n",
        "plt.imshow(gray_image)"
      ],
      "metadata": {
        "id": "RqYnCjGYfLRG"
      },
      "execution_count": null,
      "outputs": []
    },
    {
      "cell_type": "code",
      "source": [
        "tb = 50\n",
        "th = 200\n",
        "\n",
        "result_image = threshold(gray_image, tb, th)\n",
        "\n",
        "# Afficher l'image seuillée\n",
        "plt.imshow(result_image)\n"
      ],
      "metadata": {
        "id": "CgESFbDYe6TJ"
      },
      "execution_count": null,
      "outputs": []
    },
    {
      "cell_type": "code",
      "source": [
        "def normalize(image, V_min, V_max):\n",
        "    # Calculer les valeurs minimale et maximale de l'image\n",
        "    f_min = image.min()\n",
        "    f_max = image.max()\n",
        "\n",
        "    # normaliser l'histogramme\n",
        "    normalized_image = ((image - f_min) * ((V_max - V_min) / (f_max - f_min))) + V_min\n",
        "\n",
        "    return normalized_image.astype('uint8')\n",
        "\n",
        "# Charger l'image\n",
        "input_image = cv2.imread('noidea.jpg', cv2.IMREAD_GRAYSCALE)\n",
        "\n",
        "# Définir les valeurs minimale et maximale souhaitées\n",
        "V_min = 0\n",
        "V_max = 150\n",
        "\n",
        "# Normaliser l'histogramme de l'image\n",
        "normalized_image = normalize(input_image, V_min, V_max)\n",
        "\n",
        "# Afficher l'image originale et l'image normalisée\n",
        "#plt.imshow(input_image)\n",
        "plt.imshow(input_image)\n",
        "\n"
      ],
      "metadata": {
        "id": "DmbWKOa6e82k"
      },
      "execution_count": null,
      "outputs": []
    }
  ]
}